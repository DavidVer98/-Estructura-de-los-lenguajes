{
 "cells": [
  {
   "cell_type": "markdown",
   "metadata": {},
   "source": [
    "# Tema 1\n",
    "Ratings de lenguajes más populares en GitHub considerando el listado de los 20 lenguajes del índice TIOBE disponible en https://www.tiobe.com/tiobe-index/\n",
    "# Python\n"
   ]
  },
  {
   "cell_type": "code",
   "execution_count": 19,
   "metadata": {
    "scrolled": true
   },
   "outputs": [],
   "source": [
    "# !pip install pandas\n",
    "# !pip install BeautifulSoup\n",
    "# !pip install request\n",
    "# !pip install matplotlib\n",
    "\n",
    "from bs4 import BeautifulSoup\n",
    "import requests\n",
    "import re\n",
    "import pandas as pd\n",
    "\n",
    "\n",
    "url_base = 'https://github.com/topics/'\n",
    "\n",
    "#TIOBE\n",
    "tiobe_pruebas = ['python', 'c','java','cpp','csharp','visual-basic','javascript','assembly','sql','php','r',\n",
    "                 'delphi','go','swift','ruby','visual-basic-6','objective-c','perl','lua','matlab']\n",
    "tiobe_lenguajes = ['python', 'C', 'Java', 'C++', 'C#','Visual Basic', 'JavaScript','Assembly language','SQL','PHP','R',\n",
    "                   'Delphi/Object Pascal','Go','Swift','Ruby','Classic Visual Basic','Objective-C','Perl','Lua','MATLAB']\n",
    "cant_repo_public = list()\n",
    "rating_github = list()\n",
    "\n",
    "\n"
   ]
  },
  {
   "cell_type": "markdown",
   "metadata": {},
   "source": [
    "# 1.1 Programa del tipo web scraping sobre la web de GitHub\n",
    "Se extraer automáticamente el número total de repositorios públicos de cada uno de los\n",
    "20 lenguajes populares"
   ]
  },
  {
   "cell_type": "code",
   "execution_count": 20,
   "metadata": {},
   "outputs": [],
   "source": [
    "for i in tiobe_pruebas:\n",
    "    page = requests.get(url_base+i)\n",
    "    soup = BeautifulSoup(page.content, 'html.parser')\n",
    "    repo_public = soup.find_all('h2', class_= 'h3 color-fg-muted')\n",
    "    for cant in repo_public:\n",
    "        cant_repo_public.append([int(s) for s in re.findall(r\"[-+]?\\d*\\.\\d+|\\d+\",cant.text.replace(',', \"\"))][0])"
   ]
  },
  {
   "cell_type": "markdown",
   "metadata": {},
   "source": [
    "# 1.2 Se almacenan los datos extradios en el archivo \"Respuesta.cvs\""
   ]
  },
  {
   "cell_type": "code",
   "execution_count": 21,
   "metadata": {},
   "outputs": [],
   "source": [
    "df = pd.DataFrame({'Lenguaje':tiobe_lenguajes,'Repositorios Publicos':cant_repo_public} ,index=(range(1,21)))\n",
    "df.to_csv('Respuesta.csv')"
   ]
  },
  {
   "cell_type": "markdown",
   "metadata": {},
   "source": [
    "# 1.3 Rating de GitHub de cada uno de los 20 lenguajes \n",
    "Se calcula el rating de acuerdo a la ecuación:  $\\color{gray}{\\text{ $RATING-GITHUB  = \\frac{(X- MIN)}{ {(MAX - MIN)} }$ }}$"
   ]
  },
  {
   "cell_type": "code",
   "execution_count": 22,
   "metadata": {},
   "outputs": [],
   "source": [
    "\n",
    "valor_maximo = max(cant_repo_public)\n",
    "valor_minimo = min(cant_repo_public)\n",
    "\n",
    "for i in cant_repo_public:\n",
    "        rating = ((i - valor_minimo) / (valor_maximo - valor_minimo) ) * 100\n",
    "        rating_github.append(rating)"
   ]
  },
  {
   "cell_type": "markdown",
   "metadata": {},
   "source": [
    "# 1.4 Se imprimer en orden descendentemente por RATING_GITHUB\n",
    "NOMBRE_LENGUAJE, RATING_GITHUB, NRO_APARICIONES."
   ]
  },
  {
   "cell_type": "code",
   "execution_count": 23,
   "metadata": {},
   "outputs": [
    {
     "name": "stdout",
     "output_type": "stream",
     "text": [
      "                Lenguaje  Rating Github  Repositorios Publicos\n",
      "7             JavaScript     100.000000                 305688\n",
      "1                 python      89.976180                 275053\n",
      "3                   Java      53.532795                 163674\n",
      "10                   PHP      29.247240                  89452\n",
      "5                     C#      15.258718                  46700\n",
      "4                    C++      14.764644                  45190\n",
      "2                      C      14.289220                  43737\n",
      "13                    Go      13.591626                  41605\n",
      "14                 Swift      11.047961                  33831\n",
      "15                  Ruby       9.190765                  28155\n",
      "11                     R       8.541924                  26172\n",
      "9                    SQL       7.837132                  24018\n",
      "20                MATLAB       3.129683                   9631\n",
      "19                   Lua       3.108742                   9567\n",
      "17           Objective-C       1.764925                   5460\n",
      "8      Assembly language       1.523123                   4721\n",
      "18                  Perl       1.231914                   3831\n",
      "12  Delphi/Object Pascal       0.596816                   1890\n",
      "6           Visual Basic       0.276813                    912\n",
      "16  Classic Visual Basic       0.000000                     66\n"
     ]
    }
   ],
   "source": [
    "\n",
    "\n",
    "df_rating_github =pd.DataFrame({'Lenguaje':tiobe_lenguajes,'Rating Github':rating_github,'Repositorios Publicos':cant_repo_public} ,index=(range(1,21)))\n",
    "df_rating_github_descendente = df_rating_github.sort_values(by=['Rating Github'],ascending=False)\n",
    "print(df_rating_github_descendente)\n",
    "\n",
    "\n"
   ]
  },
  {
   "cell_type": "markdown",
   "metadata": {},
   "source": [
    "# 1.5 Gráfico de barras\n",
    "Se visualizan los 10 lenguajes con mayor número de apariciones entre los resultados."
   ]
  },
  {
   "cell_type": "code",
   "execution_count": 24,
   "metadata": {
    "scrolled": true
   },
   "outputs": [
    {
     "data": {
      "text/plain": [
       "<AxesSubplot:title={'center':'Lista de lenguajes'}, xlabel='Lenguaje'>"
      ]
     },
     "execution_count": 24,
     "metadata": {},
     "output_type": "execute_result"
    },
    {
     "data": {
      "image/png": "[encoded data removed]",
      "text/plain": [
       "<Figure size 936x288 with 1 Axes>"
      ]
     },
     "metadata": {
      "needs_background": "light"
     },
     "output_type": "display_data"
    }
   ],
   "source": [
    "muestra = df_rating_github_descendente[:10].copy()\n",
    "muestra.plot.bar(x='Lenguaje', y='Repositorios Publicos',\n",
    "             title='Lista de lenguajes', color='green',width = 0.9 ,figsize=(13,4))"
   ]
  },
  {
   "cell_type": "code",
   "execution_count": null,
   "metadata": {},
   "outputs": [],
   "source": []
  }
 ],
 "metadata": {
  "kernelspec": {
   "display_name": "Python 3",
   "language": "python",
   "name": "python3"
  },
  "language_info": {
   "codemirror_mode": {
    "name": "ipython",
    "version": 3
   },
   "file_extension": ".py",
   "mimetype": "text/x-python",
   "name": "python",
   "nbconvert_exporter": "python",
   "pygments_lexer": "ipython3",
   "version": "3.8.10"
  }
 },
 "nbformat": 4,
 "nbformat_minor": 4
}
