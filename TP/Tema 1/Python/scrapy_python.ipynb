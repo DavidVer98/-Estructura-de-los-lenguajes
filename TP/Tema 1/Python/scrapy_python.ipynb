{
 "cells": [
  {
   "cell_type": "markdown",
   "metadata": {},
   "source": [
    "# Tema 1\n",
    "Ratings de lenguajes más populares en GitHub considerando el listado de los 20 lenguajes del índice TIOBE disponible en https://www.tiobe.com/tiobe-index/\n",
    "# Python\n"
   ]
  },
  {
   "cell_type": "code",
   "execution_count": 5,
   "metadata": {
    "scrolled": true
   },
   "outputs": [],
   "source": [
    "# !pip install pandas\n",
    "# !pip install BeautifulSoup\n",
    "# !pip install request\n",
    "# !pip install matplotlib\n",
    "\n",
    "from bs4 import BeautifulSoup\n",
    "import requests\n",
    "import re\n",
    "import pandas as pd\n",
    "\n",
    "\n",
    "url_base = 'https://github.com/topics/'\n",
    "\n",
    "#TIOBE\n",
    "tiobe_pruebas = ['python', 'c','java','cpp','csharp','visual-basic','javascript','assembly','sql','php','r','delphi','go','swift','ruby','visual-basic-6','objective-c','perl','lua','matlab']\n",
    "tiobe_lenguajes = ['python', 'C', 'Java', 'C++', 'C#','Visual Basic', 'JavaScript','Assembly language','SQL','PHP','R',\n",
    "                   'Delphi/Object Pascal','Go','Swift','Ruby','Classic Visual Basic','Objective-C','Perl','Lua','MATLAB']\n",
    "cant_repo_public = list()\n",
    "rating_github = list()\n",
    "\n",
    "# print(url_base+tiobe_lenguajes[0])\n",
    "\n"
   ]
  },
  {
   "cell_type": "markdown",
   "metadata": {},
   "source": [
    "# Rating de GitHub de cada uno de los 20 lenguajes\n",
    "Ordene descendentemente por RATING_GITHUB"
   ]
  },
  {
   "cell_type": "code",
   "execution_count": 6,
   "metadata": {},
   "outputs": [
    {
     "name": "stdout",
     "output_type": "stream",
     "text": [
      "                Lenguaje  Rating Github  Repositorios Publicos\n",
      "7             JavaScript     100.000000                 305392\n",
      "1                 python      90.005764                 274877\n",
      "3                   Java      53.561112                 163602\n",
      "10                   PHP      29.267406                  89427\n",
      "5                     C#      15.269908                  46689\n",
      "4                    C++      14.772735                  45171\n",
      "2                      C      14.297832                  43721\n",
      "13                    Go      13.603165                  41600\n",
      "14                 Swift      11.058672                  33831\n",
      "15                  Ruby       9.195090                  28141\n",
      "11                     R       8.546275                  26160\n",
      "9                    SQL       7.837197                  23995\n",
      "20                MATLAB       3.131407                   9627\n",
      "19                   Lua       3.110773                   9564\n",
      "17           Objective-C       1.766309                   5459\n",
      "8      Assembly language       1.524272                   4720\n",
      "18                  Perl       1.233108                   3831\n",
      "12  Delphi/Object Pascal       0.597394                   1890\n",
      "6           Visual Basic       0.277081                    912\n",
      "16  Classic Visual Basic       0.000000                     66\n"
     ]
    }
   ],
   "source": [
    "for i in tiobe_pruebas:\n",
    "    page = requests.get(url_base+i)\n",
    "    soup = BeautifulSoup(page.content, 'html.parser')\n",
    "    repo_public = soup.find_all('h2', class_= 'h3 color-fg-muted')\n",
    "    for cant in repo_public:\n",
    "        # print(cant.text)\n",
    "        cant_repo_public.append([int(s) for s in re.findall(r\"[-+]?\\d*\\.\\d+|\\d+\",cant.text.replace(',', \"\"))][0])\n",
    "        # print(cant_repo_public)\n",
    "#print(cant_repo_public)\n",
    "df = pd.DataFrame({'Lenguaje':tiobe_lenguajes,'Repositorios Publicos':cant_repo_public} ,index=(range(1,21)))\n",
    "valor_maximo = max(cant_repo_public)\n",
    "valor_minimo = min(cant_repo_public)\n",
    "#print(valor_maximo, valor_minimo)\n",
    "\n",
    "for i in cant_repo_public:\n",
    "        rating = ((i - valor_minimo) / (valor_maximo - valor_minimo) ) * 100\n",
    "        rating_github.append(rating)\n",
    "\n",
    "#print(rating_github)\n",
    "df_rating_github =pd.DataFrame({'Lenguaje':tiobe_lenguajes,'Rating Github':rating_github,'Repositorios Publicos':cant_repo_public} ,index=(range(1,21)))\n",
    "df_rating_github_descendente = df_rating_github.sort_values(by=['Rating Github'],ascending=False)\n",
    "print(df_rating_github_descendente)\n",
    "\n",
    "\n",
    "df.to_csv('Respuesta.csv')\n"
   ]
  },
  {
   "cell_type": "markdown",
   "metadata": {},
   "source": [
    "# Gráfico de barras\n",
    "Para visualizar los 10 lenguajes con mayor número de apariciones entre los resultados."
   ]
  },
  {
   "cell_type": "code",
   "execution_count": 16,
   "metadata": {
    "scrolled": true
   },
   "outputs": [
    {
     "data": {
      "text/plain": [
       "<AxesSubplot:title={'center':'Lista de lenguajes'}, ylabel='Lenguaje'>"
      ]
     },
     "execution_count": 16,
     "metadata": {},
     "output_type": "execute_result"
    },
    {
     "data": {
      "image/png": "[encoded data removed]",
      "text/plain": [
       "<Figure size 936x288 with 1 Axes>"
      ]
     },
     "metadata": {
      "needs_background": "light"
     },
     "output_type": "display_data"
    }
   ],
   "source": [
    "muestra = df_rating_github_descendente[:10].copy()\n",
    "muestra.plot.barh(x='Lenguaje', y='Repositorios Publicos',\n",
    "             title='Lista de lenguajes', color='green',width = 0.9 ,figsize=(13,4))"
   ]
  }
 ],
 "metadata": {
  "kernelspec": {
   "display_name": "Python 3",
   "language": "python",
   "name": "python3"
  },
  "language_info": {
   "codemirror_mode": {
    "name": "ipython",
    "version": 3
   },
   "file_extension": ".py",
   "mimetype": "text/x-python",
   "name": "python",
   "nbconvert_exporter": "python",
   "pygments_lexer": "ipython3",
   "version": "3.8.10"
  }
 },
 "nbformat": 4,
 "nbformat_minor": 4
}
