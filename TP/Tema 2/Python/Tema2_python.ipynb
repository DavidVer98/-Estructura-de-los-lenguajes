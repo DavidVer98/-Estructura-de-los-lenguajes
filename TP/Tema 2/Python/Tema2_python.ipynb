{
 "cells": [
  {
   "cell_type": "markdown",
   "metadata": {},
   "source": [
    "# Tema 2\n",
    "## Topics de interés en la web de GitHub\n",
    "Angular"
   ]
  },
  {
   "cell_type": "code",
   "execution_count": 1,
   "metadata": {},
   "outputs": [],
   "source": [
    "from datetime import datetime,timedelta\n",
    "import pandas as pd\n",
    "import requests\n",
    "from bs4 import BeautifulSoup as bs, BeautifulSoup\n",
    "from selenium import webdriver\n",
    "import time\n",
    "from selenium.webdriver.chrome.service import Service\n",
    "from selenium.webdriver.common.by import By"
   ]
  },
  {
   "cell_type": "code",
   "execution_count": 2,
   "metadata": {},
   "outputs": [],
   "source": [
    "chrome =\"/usr/lib/chromium-browser/chromedriver\"\n",
    "path = (chrome)\n",
    "s = Service(path)\n",
    "driver = webdriver.Chrome(service=s)\n",
    "\n",
    "url_base = \"https://github.com/topics/angular\"\n",
    "page = requests.get(url_base)\n",
    "driver.get(url_base)\n",
    "\n",
    "lista_topics_f = list()\n",
    "lista_topics = list()\n",
    "lista_fecha = list()\n",
    "\n",
    "for i in range(10):\n",
    "    driver.find_element(By.CSS_SELECTOR, \".ajax-pagination-btn\").click()\n",
    "    time.sleep(1)\n",
    "soup = BeautifulSoup(driver.page_source, 'html.parser')\n",
    "driver.quit()"
   ]
  },
  {
   "cell_type": "code",
   "execution_count": 3,
   "metadata": {},
   "outputs": [
    {
     "name": "stdout",
     "output_type": "stream",
     "text": [
      "                Topic  Repeticiones\n",
      "3             angular            89\n",
      "0               react            36\n",
      "6          typescript            31\n",
      "1          javascript            29\n",
      "10                vue            23\n",
      "..                ...           ...\n",
      "273      music-player             1\n",
      "272   angular-routing             1\n",
      "271        hot-reload             1\n",
      "270  native-libraries             1\n",
      "596  shopping-website             1\n",
      "\n",
      "[597 rows x 2 columns]\n"
     ]
    }
   ],
   "source": [
    "\n",
    "topics_sinfiltrar = list()\n",
    "# Se busca el primer div que contiene a los topics\n",
    "for element in soup.findAll('div', attrs={'class':'d-flex flex-wrap border-bottom color-border-muted px-3 pt-2 pb-2'}):\n",
    "    topics_sinfiltrar.append((element.text.split()))\n",
    "\n",
    "\n",
    "\n",
    "# etiqueta li que contiene a la fecha de cada topic\n",
    "fecha_li = soup.select('li.mr-4 > relative-time')\n",
    "\n",
    "# Se guardata todas las fechas encontradas\n",
    "for index,i in enumerate(fecha_li):\n",
    "    lista_fecha.append(i.attrs['datetime'])\n",
    "\n",
    "# Fecha actual\n",
    "current_time = datetime.now()\n",
    "now = datetime.now().strftime(\"%Y-%m-%dT%H:%M:%SZ\")\n",
    "fecha_actual = datetime.strptime(now,\"%Y-%m-%dT%H:%M:%SZ\")\n",
    "\n",
    "contador=0\n",
    "\n",
    "# Se calcula que la fecha no sea superiro a 30 dias\n",
    "for i in lista_fecha:\n",
    "    fecha_del_topic = datetime.strptime(lista_fecha[contador], \"%Y-%m-%dT%H:%M:%SZ\")\n",
    "    diferencia = fecha_actual - fecha_del_topic\n",
    "    if (diferencia.days < 30):\n",
    "        lista_topics.append(topics_sinfiltrar[contador])\n",
    "    contador = contador + 1\n",
    "contador=0\n",
    "\n",
    "# Se guarda en una nueva lista los topics ya procesados con las restricción de fecha\n",
    "while contador < len(lista_topics):\n",
    "    for x in  lista_topics[contador]:\n",
    "        lista_topics_f.append(x)\n",
    "    contador += 1\n",
    "\n",
    "# Se guarda los datos en un .cvs\n",
    "df =pd.DataFrame({'Topic':lista_topics_f} )\n",
    "nro_apariciones = dict((i, lista_topics_f.count(i)) for i in lista_topics_f)\n",
    "df.to_csv('Respuesta.csv')\n",
    "\n",
    "df = pd.DataFrame([[key, nro_apariciones[key]] for key in nro_apariciones.keys()], columns=['Topic', 'Repeticiones'])\n",
    "df_topics_descendente = df.sort_values(by=['Repeticiones'],ascending=False)\n",
    "print(df_topics_descendente)\n",
    "\n",
    "\n",
    "\n"
   ]
  },
  {
   "cell_type": "markdown",
   "metadata": {},
   "source": [
    "# Grafico en barras\n",
    "Se visualizan las 20 palabras con mayor número de apariciones en orden descendente"
   ]
  },
  {
   "cell_type": "code",
   "execution_count": 4,
   "metadata": {},
   "outputs": [
    {
     "data": {
      "text/plain": [
       "<AxesSubplot:title={'center':'Lista de topics'}, xlabel='Topic'>"
      ]
     },
     "execution_count": 4,
     "metadata": {},
     "output_type": "execute_result"
    },
    {
     "data": {
      "image/png": "[encoded data removed]",
      "text/plain": [
       "<Figure size 936x288 with 1 Axes>"
      ]
     },
     "metadata": {
      "needs_background": "light"
     },
     "output_type": "display_data"
    }
   ],
   "source": [
    "grafico = df_topics_descendente[:20].copy()\n",
    "grafico.plot.bar(x='Topic', y='Repeticiones' ,title='Lista de topics', color='green',width = 0.9 ,figsize=(13,4))"
   ]
  },
  {
   "cell_type": "code",
   "execution_count": null,
   "metadata": {},
   "outputs": [],
   "source": []
  }
 ],
 "metadata": {
  "kernelspec": {
   "display_name": "Python 3",
   "language": "python",
   "name": "python3"
  },
  "language_info": {
   "codemirror_mode": {
    "name": "ipython",
    "version": 3
   },
   "file_extension": ".py",
   "mimetype": "text/x-python",
   "name": "python",
   "nbconvert_exporter": "python",
   "pygments_lexer": "ipython3",
   "version": "3.8.10"
  }
 },
 "nbformat": 4,
 "nbformat_minor": 4
}
