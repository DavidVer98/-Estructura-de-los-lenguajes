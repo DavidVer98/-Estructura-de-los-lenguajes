{
 "cells": [
  {
   "cell_type": "markdown",
   "metadata": {},
   "source": [
    "# Tema 2\n",
    "### Topics de interés en la web de GitHub\n",
    "Angular \n"
   ]
  },
  {
   "cell_type": "code",
   "execution_count": 9,
   "metadata": {},
   "outputs": [],
   "source": [
    "import pandas as pd\n",
    "import requests\n",
    "from bs4 import BeautifulSoup as bs, BeautifulSoup\n",
    "from selenium import webdriver\n",
    "import time\n",
    "from selenium.webdriver.chrome.service import Service\n",
    "\n",
    "chrome =\"/usr/lib/chromium-browser/chromedriver\"\n",
    "path = (chrome)\n",
    "s = Service(path)\n",
    "driver = webdriver.Chrome(service=s)\n",
    "\n",
    "url_base = \"https://github.com/topics/angular\"\n",
    "page = requests.get(url_base)\n",
    "\n",
    "driver.get(url_base)\n",
    "\n",
    "lista_topics = list()\n",
    "\n",
    "for i in range(10):\n",
    "    driver.find_element_by_css_selector(\".ajax-pagination-btn\").click()\n",
    "    time.sleep(1)\n",
    "\n",
    "soup = BeautifulSoup(driver.page_source, 'html.parser')\n",
    "topics_github = soup.find_all(\"a\", class_= \"topic-tag\")\n",
    "\n",
    "driver.quit()\n",
    "\n",
    "for index,i in enumerate(topics_github):\n",
    "    lista_topics.append(i.text.strip())\n",
    "df =pd.DataFrame({'Topic':lista_topics} )\n"
   ]
  },
  {
   "cell_type": "code",
   "execution_count": 2,
   "metadata": {},
   "outputs": [],
   "source": [
    "df =pd.DataFrame({'Topic':lista_topics} )\n",
    "nro_apariciones = dict((i, lista_topics.count(i)) for i in lista_topics)\n",
    "df.to_csv('Respuesta.csv')"
   ]
  },
  {
   "cell_type": "code",
   "execution_count": 3,
   "metadata": {
    "scrolled": true
   },
   "outputs": [
    {
     "name": "stdout",
     "output_type": "stream",
     "text": [
      "               Topic  Repeticiones\n",
      "8            angular           146\n",
      "0              react            49\n",
      "1         javascript            45\n",
      "25        typescript            43\n",
      "12               vue            31\n",
      "..               ...           ...\n",
      "324       hot-reload             1\n",
      "325  angular-routing             1\n",
      "326     music-player             1\n",
      "327       soundcloud             1\n",
      "768       deprecated             1\n",
      "\n",
      "[769 rows x 2 columns]\n"
     ]
    }
   ],
   "source": [
    "df = pd.DataFrame([[key, nro_apariciones[key]] for key in nro_apariciones.keys()], columns=['Topic', 'Repeticiones'])\n",
    "df_topics_descendente = df.sort_values(by=['Repeticiones'],ascending=False)\n",
    "print(df_topics_descendente)"
   ]
  },
  {
   "cell_type": "code",
   "execution_count": 4,
   "metadata": {
    "scrolled": true
   },
   "outputs": [
    {
     "data": {
      "text/plain": [
       "<AxesSubplot:title={'center':'Lista de topics'}, xlabel='Topic'>"
      ]
     },
     "execution_count": 4,
     "metadata": {},
     "output_type": "execute_result"
    },
    {
     "data": {
      "image/png": "[encoded data removed]",
      "text/plain": [
       "<Figure size 936x288 with 1 Axes>"
      ]
     },
     "metadata": {
      "needs_background": "light"
     },
     "output_type": "display_data"
    }
   ],
   "source": [
    "grafico = df_topics_descendente[:20].copy()\n",
    "grafico.plot.bar(x='Topic', y='Repeticiones' ,title='Lista de topics', color='green',width = 0.9 ,figsize=(13,4))"
   ]
  },
  {
   "cell_type": "code",
   "execution_count": null,
   "metadata": {},
   "outputs": [],
   "source": []
  }
 ],
 "metadata": {
  "kernelspec": {
   "display_name": "Python 3",
   "language": "python",
   "name": "python3"
  },
  "language_info": {
   "codemirror_mode": {
    "name": "ipython",
    "version": 3
   },
   "file_extension": ".py",
   "mimetype": "text/x-python",
   "name": "python",
   "nbconvert_exporter": "python",
   "pygments_lexer": "ipython3",
   "version": "3.8.10"
  }
 },
 "nbformat": 4,
 "nbformat_minor": 4
}
