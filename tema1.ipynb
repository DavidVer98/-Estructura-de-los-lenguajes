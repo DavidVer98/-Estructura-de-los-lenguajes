{
 "cells": [
  {
   "cell_type": "markdown",
   "id": "801e9d41-efd3-48d7-a00b-54692d380ba2",
   "metadata": {},
   "source": [
    "# Librerias utilizadas"
   ]
  },
  {
   "cell_type": "code",
   "execution_count": null,
   "id": "68a1cddc-7c6a-4520-a967-6aa16b195c96",
   "metadata": {
    "dotnet_interactive": {
     "language": "csharp"
    },
    "vscode": {
     "languageId": "dotnet-interactive.csharp"
    }
   },
   "outputs": [
    {
     "data": {
      "text/html": [
       "<div><div></div><div></div><div><strong>Installed Packages</strong><ul><li><span>HtmlAgilityPack, 1.11.42</span></li><li><span>Microsoft.Data.Analysis, 0.4.0</span></li><li><span>ScrapySharp, 3.0.0</span></li><li><span>xplot.plotly.interactive, 4.0.6</span></li></ul></div></div>"
      ]
     },
     "metadata": {},
     "output_type": "display_data"
    },
    {
     "data": {
      "text/markdown": [
       "Loading extensions from `XPlot.Plotly.Interactive.dll`"
      ]
     },
     "metadata": {},
     "output_type": "display_data"
    },
    {
     "data": {
      "text/markdown": [
       "Configuring PowerShell Kernel for XPlot.Plotly integration."
      ]
     },
     "metadata": {},
     "output_type": "display_data"
    },
    {
     "data": {
      "text/markdown": [
       "Installed support for XPlot.Plotly."
      ]
     },
     "metadata": {},
     "output_type": "display_data"
    }
   ],
   "source": [
    "#r \"nuget:Microsoft.Data.Analysis,0.4.0\"\n",
    "#r \"nuget:xplot.plotly.interactive\"\n",
    "#r \"nuget: HtmlAgilityPack, 1.11.42\"\n",
    "#r \"nuget: ScrapySharp, 3.0.0\"\n",
    "\n",
    "using System;\n",
    "using System.Collections.Generic;\n",
    "using System.Globalization;\n",
    "using System.IO;\n",
    "using System.Linq;\n",
    "using System.Threading.Tasks;\n",
    "using ScrapySharp.Extensions;\n",
    "using Microsoft.Data.Analysis;\n",
    "using HtmlAgilityPack;\n",
    "using Microsoft.AspNetCore.Html;\n",
    "using Microsoft.DotNet.Interactive.Formatting;\n",
    "using XPlot.Plotly;\n"
   ]
  },
  {
   "cell_type": "markdown",
   "id": "f7d856a9-9304-4f50-97dc-ab082dd83258",
   "metadata": {},
   "source": [
    "# Declaracion de la clase para almacenar los lenguajes"
   ]
  },
  {
   "cell_type": "code",
   "execution_count": null,
   "id": "7051f942-6143-458f-a3e6-66ae6d9a2c04",
   "metadata": {
    "dotnet_interactive": {
     "language": "csharp"
    },
    "vscode": {
     "languageId": "dotnet-interactive.csharp"
    }
   },
   "outputs": [],
   "source": [
    "public class Lenguaje\n",
    "    {\n",
    "        public string leng { get; set; }\n",
    "        public int apariciones { get; set; }\n",
    "        public double ratio { get; set; }\n",
    "        public Lenguaje(string leng, int apariciones, double ratio)\n",
    "        {\n",
    "            this.leng = leng;\n",
    "            this.apariciones = apariciones;\n",
    "            this.ratio = ratio;\n",
    "        }\n",
    "\n",
    "        public void setRatio( double max, double min)\n",
    "        {\n",
    "            this.ratio = (((double)apariciones - min) / (max - min)) * 100.0;\n",
    "        }\n",
    "\n",
    "        public void imprimir()\n",
    "        {\n",
    "            Console.WriteLine(leng, ratio, apariciones);\n",
    "        }\n",
    "\n",
    "        public override string ToString()\n",
    "        {\n",
    "            return leng + \", \" + ratio + \", \" + apariciones;\n",
    "        }\n",
    "    }\n",
    "    //dado un link retorna el nombre del lenguaje\n",
    "    static String getLenguaje(string link)\n",
    "    {\n",
    "        int firstStringPosition = link.IndexOf(\"s/\");\n",
    "        return link.Substring(firstStringPosition+2);\n",
    "    }"
   ]
  },
  {
   "cell_type": "markdown",
   "id": "d3bfe5e8-db5e-43da-8149-11c1b121c67e",
   "metadata": {},
   "source": [
    "# Programa para obtener los datos de las paginas listadas"
   ]
  },
  {
   "cell_type": "code",
   "execution_count": null,
   "id": "709371d0-7043-45e7-b3f2-8d29e6c82324",
   "metadata": {
    "dotnet_interactive": {
     "language": "csharp"
    },
    "vscode": {
     "languageId": "dotnet-interactive.csharp"
    }
   },
   "outputs": [
    {
     "name": "stdout",
     "output_type": "stream",
     "text": [
      "Indx - Lenguaje, Apariciones\r\n",
      "1 - matlab,9732\r\n",
      "2 - perl,3841\r\n",
      "3 - lua,9654\r\n",
      "4 - python,278209\r\n",
      "5 - c,44053\r\n",
      "6 - java,165209\r\n",
      "7 - cpp,45556\r\n",
      "8 - csharp,47056\r\n",
      "9 - visual-basic,893\r\n",
      "10 - javascript,310144\r\n",
      "11 - assembly,4786\r\n",
      "12 - sql,24427\r\n",
      "13 - php,89912\r\n",
      "14 - r,26326\r\n",
      "15 - delphi,1903\r\n",
      "16 - go,41851\r\n",
      "17 - visual-basic-6,68\r\n",
      "18 - objective-c,5460\r\n",
      "19 - swift,33996\r\n",
      "20 - ruby,28310\r\n",
      "\r\n",
      "Lenguaje,Ratio,Apariciones\r\n",
      "--------------------------\r\n",
      "javascript, 100, 310144\r\n",
      "python, 89,70091203446897, 278209\r\n",
      "java, 53,258233465343984, 165209\r\n",
      "php, 28,974831976676686, 89912\r\n",
      "csharp, 15,15370425315084, 47056\r\n",
      "cpp, 14,669951882764225, 45556\r\n",
      "c, 14,185232007636838, 44053\r\n",
      "go, 13,475083527909288, 41851\r\n",
      "swift, 10,941833614984715, 33996\r\n",
      "ruby, 9,108089629639185, 28310\r\n",
      "r, 8,468246494407824, 26326\r\n",
      "sql, 7,855815993498368, 24427\r\n",
      "matlab, 3,116655271610831, 9732\r\n",
      "lua, 3,091500148350727, 9654\r\n",
      "objective-c, 1,7389285207497516, 5460\r\n",
      "assembly, 1,5215624556560328, 4786\r\n",
      "perl, 1,2167984623124655, 3841\r\n",
      "delphi, 0,5917903997729589, 1903\r\n",
      "visual-basic, 0,26606380371263816, 893\r\n",
      "visual-basic-6, 0, 68\r\n"
     ]
    }
   ],
   "source": [
    "            //obtener los lenguajes\n",
    "            string fileName = @\"./Resultados.csv\";\n",
    "            FileInfo fi = new FileInfo(fileName);\n",
    "            string archivo2 = @\"./plotData.csv\";\n",
    "            FileInfo fi2 = new FileInfo(archivo2);\n",
    "            List<string> links = new List<string>(new string[] {\n",
    "                \"https://github.com/topics/matlab\",\n",
    "                \"https://github.com/topics/perl\",\n",
    "                \"https://github.com/topics/lua\",\n",
    "                \"https://github.com/topics/python\",\n",
    "                \"https://github.com/topics/c\",\n",
    "                \"https://github.com/topics/java\",\n",
    "                \"https://github.com/topics/cpp\",\n",
    "                \"https://github.com/topics/csharp\",\n",
    "                \"https://github.com/topics/visual-basic\",\n",
    "                \"https://github.com/topics/javascript\",\n",
    "                \"https://github.com/topics/assembly\",\n",
    "                \"https://github.com/topics/sql\",\n",
    "                \"https://github.com/topics/php\",\n",
    "                \"https://github.com/topics/r\",\n",
    "                \"https://github.com/topics/delphi\",\n",
    "                \"https://github.com/topics/go\",\n",
    "                \"https://github.com/topics/visual-basic-6\",\n",
    "                \"https://github.com/topics/objective-c\",\n",
    "                \"https://github.com/topics/swift\",\n",
    "                \"https://github.com/topics/ruby\",\n",
    "            });\n",
    "\n",
    "            try\n",
    "            {\n",
    "                // Si el archivo ya existe borrarlo\n",
    "\n",
    "                if (fi.Exists)\n",
    "                {\n",
    "                    fi.Delete();\n",
    "                }\n",
    "\n",
    "                List<Lenguaje> lenguajes = new List<Lenguaje>();\n",
    "\n",
    "\n",
    "                // Crear archivo para escribir en el lenguaje,apariciones   \n",
    "                using (StreamWriter sw = fi.CreateText())\n",
    "                {\n",
    "                    var cont = 0;\n",
    "                    HtmlWeb web = new HtmlWeb();\n",
    "                    Console.WriteLine(\"Indx - Lenguaje, Apariciones\");\n",
    "                    foreach (var url in links)\n",
    "                    {\n",
    "                        cont++;\n",
    "                        Task.Delay(20000);\n",
    "                        HtmlDocument html = web.Load(url);\n",
    "                        //Extrayendo las coincidencias\n",
    "\n",
    "\n",
    "                        HtmlNode node = html.DocumentNode.CssSelect(\"[class='h3 color-fg-muted']\").FirstOrDefault();\n",
    "\n",
    "                        //Extrayendo el substring que coincide con are y public\n",
    "                        int firstStringPosition = node.InnerText.IndexOf(\"are\");\n",
    "                        int secondStringPosition = node.InnerText.IndexOf(\"public\");\n",
    "                        string stringBetweenTwoStrings = node.InnerText.Substring(firstStringPosition + 16,\n",
    "                            secondStringPosition - firstStringPosition - 17);\n",
    "                        //Imprimir el lenguaje,apareciones\n",
    "                        int apariciones = int.Parse(stringBetweenTwoStrings, NumberStyles.AllowThousands, new CultureInfo(\"en-au\"));\n",
    "                        lenguajes.Add(new Lenguaje(getLenguaje(url), apariciones, 0.0));\n",
    "                        Console.WriteLine($\"{cont} - {getLenguaje(url)},{apariciones}\");\n",
    "\n",
    "                        sw.WriteLine($\"{getLenguaje(url)},{apariciones}\");\n",
    "                    }\n",
    "\n",
    "                    //obtener el minimo y el maximo\n",
    "                    int max = int.MinValue;\n",
    "                    int min = int.MaxValue;\n",
    "                    foreach (var lenguaje in lenguajes)\n",
    "                    {\n",
    "                        min = (lenguaje.apariciones < min) ? lenguaje.apariciones : min;\n",
    "                        max = (lenguaje.apariciones > max) ? lenguaje.apariciones : max;\n",
    "                    }\n",
    "\n",
    "                    //settear los ratios usando los maximos y minimos\n",
    "                    foreach (var lenguaje in lenguajes)\n",
    "                    {\n",
    "                        lenguaje.setRatio((double)max, (double)min);\n",
    "                    }\n",
    "                    //ordenar la lista descendentemente\n",
    "                    lenguajes.Sort((x, y) => x.ratio.CompareTo(y.ratio));\n",
    "                    lenguajes.Reverse();\n",
    "                    Console.WriteLine();\n",
    "                    Console.WriteLine(\"Lenguaje,Ratio,Apariciones\");\n",
    "                    Console.WriteLine(\"--------------------------\");\n",
    "                    for (var i = 0; i < lenguajes.Count; i++)\n",
    "                    {\n",
    "                        Console.WriteLine(lenguajes[i]);\n",
    "                    }\n",
    "                    \n",
    "                    //cargar los 10 lenguajes con mayor numero de apariciones en orden descendente\n",
    "                     if (fi2.Exists)\n",
    "                    {\n",
    "                        fi2.Delete();\n",
    "                    }\n",
    "                    using (StreamWriter sw2 = fi2.CreateText())\n",
    "                    {\n",
    "                        sw2.WriteLine(\"Lenguaje,Apariciones\");\n",
    "                        for (var i = 0; i < 10; i++)\n",
    "                        {\n",
    "                            sw2.WriteLine($\"{lenguajes[i].leng},{lenguajes[i].apariciones}\");\n",
    "                        }\n",
    "                    }\n",
    "    \n",
    "                }\n",
    "            }\n",
    "            catch (Exception Ex)\n",
    "            {\n",
    "                Console.WriteLine(Ex.ToString());\n",
    "            }"
   ]
  },
  {
   "cell_type": "markdown",
   "id": "740501e9-c92a-498a-ab21-a6aba6f78588",
   "metadata": {},
   "source": [
    "# Grafico de Barras"
   ]
  },
  {
   "cell_type": "code",
   "execution_count": null,
   "id": "9454ef44-420c-4c7a-b9d8-4812afc4983a",
   "metadata": {
    "dotnet_interactive": {
     "language": "csharp"
    },
    "vscode": {
     "languageId": "dotnet-interactive.csharp"
    }
   },
   "outputs": [
    {
     "data": {
      "text/html": [
       "<!DOCTYPE html>\r\n",
       "<div style=\"width: 500px; height: 500px;\" id=\"c5c669fd-c52a-4077-bd0a-ccebb4713c0c\"></div><script type=\"text/javascript\">\r\n",
       "\n",
       "var renderPlotly = function() {\n",
       "    var xplotRequire = require.config({context:'xplot-3.0.1',paths:{plotly:'https://cdn.plot.ly/plotly-1.49.2.min'}}) || require;\n",
       "    xplotRequire(['plotly'], function(Plotly) { \r\n",
       "\n",
       "            var data = [{\"type\":\"bar\",\"x\":[\"javascript\",\"python\",\"java\",\"php\",\"csharp\",\"cpp\",\"c\",\"go\",\"swift\",\"ruby\"],\"y\":[310144.0,278209.0,165209.0,89912.0,47056.0,45556.0,44053.0,41851.0,33996.0,28310.0],\"marker\":{\"color\":\"green\",\"colorscale\":\"Jet\"}}];\n",
       "           var layout = {\"title\":\"Lenguaje vs. Apariciones\",\"xaxis\":{\"title\":\"Lenguaje\",\"_isSubplotObj\":true},\"yaxis\":{\"title\":\"Apariciones\",\"_isSubplotObj\":true}};\n",
       "           Plotly.newPlot('c5c669fd-c52a-4077-bd0a-ccebb4713c0c', data, layout);\n",
       "        \r\n",
       "});\n",
       "};\r\n",
       "// ensure `require` is available globally\r\n",
       "if ((typeof(require) !==  typeof(Function)) || (typeof(require.config) !== typeof(Function))) {\r\n",
       "    let require_script = document.createElement('script');\r\n",
       "    require_script.setAttribute('src', 'https://cdnjs.cloudflare.com/ajax/libs/require.js/2.3.6/require.min.js');\r\n",
       "    require_script.setAttribute('type', 'text/javascript');\r\n",
       "    \r\n",
       "    \r\n",
       "    require_script.onload = function() {\r\n",
       "        renderPlotly();\r\n",
       "    };\r\n",
       "\r\n",
       "    document.getElementsByTagName('head')[0].appendChild(require_script);\r\n",
       "}\r\n",
       "else {\r\n",
       "    renderPlotly();\r\n",
       "}\r\n",
       "\r\n",
       "</script>\r\n"
      ]
     },
     "metadata": {},
     "output_type": "display_data"
    }
   ],
   "source": [
    "var df1 = DataFrame.LoadCsv(\"./plotData.csv\");\n",
    "var chart = XPlot.Plotly.Chart.Plot(\n",
    "    new Bar()\n",
    "    {\n",
    "        x = df1.Columns[\"Lenguaje\"],\n",
    "        y = df1.Columns[\"Apariciones\"],\n",
    "        marker = new XPlot.Plotly.Marker()\n",
    "        {\n",
    "            color = \"green\",\n",
    "            colorscale = \"Jet\"\n",
    "        }\n",
    "    }\n",
    ");\n",
    "\n",
    "chart.Width = 500;\n",
    "chart.Height = 500;\n",
    "chart.WithXTitle(\"Lenguaje\");\n",
    "chart.WithYTitle(\"Apariciones\");\n",
    "chart.WithTitle(\"Lenguaje vs. Apariciones\");\n",
    "chart.Display();"
   ]
  }
 ],
 "metadata": {
  "kernelspec": {
   "display_name": ".NET (C#)",
   "language": "C#",
   "name": ".net-csharp"
  },
  "language_info": {
   "file_extension": ".cs",
   "mimetype": "text/x-csharp",
   "name": "C#",
   "pygments_lexer": "csharp",
   "version": "9.0"
  }
 },
 "nbformat": 4,
 "nbformat_minor": 5
}
